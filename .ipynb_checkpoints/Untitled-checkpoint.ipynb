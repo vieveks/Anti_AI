{
 "cells": [
  {
   "cell_type": "code",
   "execution_count": 1,
   "id": "a38c3496-ec77-4168-a2bf-02d6404fb2e0",
   "metadata": {},
   "outputs": [
    {
     "data": {
      "text/plain": [
       "9"
      ]
     },
     "execution_count": 1,
     "metadata": {},
     "output_type": "execute_result"
    }
   ],
   "source": [
    "h = 9 \n",
    "h"
   ]
  },
  {
   "cell_type": "code",
   "execution_count": 33,
   "id": "15240bcc-30e9-478c-b63f-051730ee4b4e",
   "metadata": {},
   "outputs": [
    {
     "name": "stdout",
     "output_type": "stream",
     "text": [
      "Requirement already satisfied: pandas in c:\\users\\asus\\desktop\\anti_ai\\env_anti\\lib\\site-packages (2.0.3)\n",
      "Requirement already satisfied: tzdata>=2022.1 in c:\\users\\asus\\desktop\\anti_ai\\env_anti\\lib\\site-packages (from pandas) (2023.3)\n",
      "Requirement already satisfied: pytz>=2020.1 in c:\\users\\asus\\desktop\\anti_ai\\env_anti\\lib\\site-packages (from pandas) (2023.3.post1)\n",
      "Requirement already satisfied: python-dateutil>=2.8.2 in c:\\users\\asus\\desktop\\anti_ai\\env_anti\\lib\\site-packages (from pandas) (2.8.2)\n",
      "Requirement already satisfied: numpy>=1.20.3; python_version < \"3.10\" in c:\\users\\asus\\desktop\\anti_ai\\env_anti\\lib\\site-packages (from pandas) (1.24.4)\n",
      "Requirement already satisfied: six>=1.5 in c:\\users\\asus\\desktop\\anti_ai\\env_anti\\lib\\site-packages (from python-dateutil>=2.8.2->pandas) (1.16.0)\n"
     ]
    },
    {
     "name": "stderr",
     "output_type": "stream",
     "text": [
      "WARNING: You are using pip version 20.2.1; however, version 23.2.1 is available.\n",
      "You should consider upgrading via the 'c:\\users\\asus\\desktop\\anti_ai\\env_anti\\scripts\\python.exe -m pip install --upgrade pip' command.\n"
     ]
    },
    {
     "name": "stdout",
     "output_type": "stream",
     "text": [
      "Requirement already satisfied: matplotlib in c:\\users\\asus\\desktop\\anti_ai\\env_anti\\lib\\site-packages (3.7.3)\n",
      "Requirement already satisfied: cycler>=0.10 in c:\\users\\asus\\desktop\\anti_ai\\env_anti\\lib\\site-packages (from matplotlib) (0.12.0)\n",
      "Requirement already satisfied: kiwisolver>=1.0.1 in c:\\users\\asus\\desktop\\anti_ai\\env_anti\\lib\\site-packages (from matplotlib) (1.4.5)\n",
      "Requirement already satisfied: fonttools>=4.22.0 in c:\\users\\asus\\desktop\\anti_ai\\env_anti\\lib\\site-packages (from matplotlib) (4.42.1)\n",
      "Requirement already satisfied: pyparsing>=2.3.1 in c:\\users\\asus\\desktop\\anti_ai\\env_anti\\lib\\site-packages (from matplotlib) (3.1.1)\n",
      "Requirement already satisfied: numpy<2,>=1.20 in c:\\users\\asus\\desktop\\anti_ai\\env_anti\\lib\\site-packages (from matplotlib) (1.24.4)\n",
      "Requirement already satisfied: python-dateutil>=2.7 in c:\\users\\asus\\desktop\\anti_ai\\env_anti\\lib\\site-packages (from matplotlib) (2.8.2)\n",
      "Requirement already satisfied: packaging>=20.0 in c:\\users\\asus\\desktop\\anti_ai\\env_anti\\lib\\site-packages (from matplotlib) (23.1)\n",
      "Requirement already satisfied: contourpy>=1.0.1 in c:\\users\\asus\\desktop\\anti_ai\\env_anti\\lib\\site-packages (from matplotlib) (1.1.1)\n",
      "Requirement already satisfied: importlib-resources>=3.2.0; python_version < \"3.10\" in c:\\users\\asus\\desktop\\anti_ai\\env_anti\\lib\\site-packages (from matplotlib) (6.1.0)\n",
      "Requirement already satisfied: pillow>=6.2.0 in c:\\users\\asus\\desktop\\anti_ai\\env_anti\\lib\\site-packages (from matplotlib) (10.0.1)\n",
      "Requirement already satisfied: six>=1.5 in c:\\users\\asus\\desktop\\anti_ai\\env_anti\\lib\\site-packages (from python-dateutil>=2.7->matplotlib) (1.16.0)\n",
      "Requirement already satisfied: zipp>=3.1.0; python_version < \"3.10\" in c:\\users\\asus\\desktop\\anti_ai\\env_anti\\lib\\site-packages (from importlib-resources>=3.2.0; python_version < \"3.10\"->matplotlib) (3.17.0)\n"
     ]
    },
    {
     "name": "stderr",
     "output_type": "stream",
     "text": [
      "WARNING: You are using pip version 20.2.1; however, version 23.2.1 is available.\n",
      "You should consider upgrading via the 'c:\\users\\asus\\desktop\\anti_ai\\env_anti\\scripts\\python.exe -m pip install --upgrade pip' command.\n"
     ]
    },
    {
     "name": "stdout",
     "output_type": "stream",
     "text": [
      "Collecting sklearn\n",
      "  Downloading sklearn-0.0.post9.tar.gz (3.6 kB)\n",
      "Using legacy 'setup.py install' for sklearn, since package 'wheel' is not installed.\n",
      "Installing collected packages: sklearn\n",
      "    Running setup.py install for sklearn: started\n",
      "    Running setup.py install for sklearn: finished with status 'done'\n",
      "Successfully installed sklearn-0.0.post9\n"
     ]
    },
    {
     "name": "stderr",
     "output_type": "stream",
     "text": [
      "WARNING: You are using pip version 20.2.1; however, version 23.2.1 is available.\n",
      "You should consider upgrading via the 'c:\\users\\asus\\desktop\\anti_ai\\env_anti\\scripts\\python.exe -m pip install --upgrade pip' command.\n"
     ]
    }
   ],
   "source": [
    "!pip install pandas \n",
    "!pip install matplotlib"
   ]
  },
  {
   "cell_type": "code",
   "execution_count": 2,
   "id": "dff9161b-6cff-4c38-86da-90f77d10a8dd",
   "metadata": {},
   "outputs": [
    {
     "name": "stdout",
     "output_type": "stream",
     "text": [
      "Collecting numpy\n",
      "  Using cached numpy-1.24.4-cp38-cp38-win_amd64.whl (14.9 MB)\n",
      "Installing collected packages: numpy\n",
      "Successfully installed numpy-1.24.4\n"
     ]
    },
    {
     "name": "stderr",
     "output_type": "stream",
     "text": [
      "WARNING: You are using pip version 20.2.1; however, version 23.2.1 is available.\n",
      "You should consider upgrading via the 'c:\\users\\asus\\desktop\\anti_ai\\env_anti\\scripts\\python.exe -m pip install --upgrade pip' command.\n"
     ]
    }
   ],
   "source": [
    "!pip install numpy\n"
   ]
  },
  {
   "cell_type": "code",
   "execution_count": 3,
   "id": "16d4308c-a836-4a7e-8776-d64748a13ad9",
   "metadata": {},
   "outputs": [
    {
     "name": "stdout",
     "output_type": "stream",
     "text": [
      "Collecting torch\n",
      "  Using cached torch-2.0.1-cp38-cp38-win_amd64.whl (172.4 MB)\n",
      "Collecting networkx\n",
      "  Using cached networkx-3.1-py3-none-any.whl (2.1 MB)\n",
      "Collecting filelock\n",
      "  Downloading filelock-3.12.4-py3-none-any.whl (11 kB)\n",
      "Requirement already satisfied: typing-extensions in c:\\users\\asus\\desktop\\anti_ai\\env_anti\\lib\\site-packages (from torch) (4.8.0)\n",
      "Collecting sympy\n",
      "  Using cached sympy-1.12-py3-none-any.whl (5.7 MB)\n",
      "Requirement already satisfied: jinja2 in c:\\users\\asus\\desktop\\anti_ai\\env_anti\\lib\\site-packages (from torch) (3.1.2)\n",
      "Collecting mpmath>=0.19\n",
      "  Using cached mpmath-1.3.0-py3-none-any.whl (536 kB)\n",
      "Requirement already satisfied: MarkupSafe>=2.0 in c:\\users\\asus\\desktop\\anti_ai\\env_anti\\lib\\site-packages (from jinja2->torch) (2.1.3)\n",
      "Installing collected packages: networkx, filelock, mpmath, sympy, torch\n",
      "Successfully installed filelock-3.12.4 mpmath-1.3.0 networkx-3.1 sympy-1.12 torch-2.0.1\n"
     ]
    },
    {
     "name": "stderr",
     "output_type": "stream",
     "text": [
      "WARNING: You are using pip version 20.2.1; however, version 23.2.1 is available.\n",
      "You should consider upgrading via the 'c:\\users\\asus\\desktop\\anti_ai\\env_anti\\scripts\\python.exe -m pip install --upgrade pip' command.\n"
     ]
    }
   ],
   "source": [
    "!pip install torch\n"
   ]
  },
  {
   "cell_type": "code",
   "execution_count": 6,
   "id": "0d778600-703c-482d-8ef6-9dbc5666b2d6",
   "metadata": {},
   "outputs": [
    {
     "data": {
      "text/plain": [
       "tensor([3, 3])"
      ]
     },
     "execution_count": 6,
     "metadata": {},
     "output_type": "execute_result"
    }
   ],
   "source": [
    "import torch\n",
    "k = torch.tensor((3,3))\n",
    "k"
   ]
  },
  {
   "cell_type": "code",
   "execution_count": 7,
   "id": "8f842d95-ca76-4576-9f2a-211312ca8d4b",
   "metadata": {},
   "outputs": [
    {
     "data": {
      "text/plain": [
       "tensor([[0., 0., 0.],\n",
       "        [0., 0., 0.],\n",
       "        [0., 0., 0.]])"
      ]
     },
     "execution_count": 7,
     "metadata": {},
     "output_type": "execute_result"
    }
   ],
   "source": [
    "torch.zeros((3,3))"
   ]
  },
  {
   "cell_type": "code",
   "execution_count": 9,
   "id": "7f29d5fb-3a91-4a9b-9b38-b98e5dafbfc1",
   "metadata": {},
   "outputs": [
    {
     "data": {
      "text/plain": [
       "Parameter containing:\n",
       "tensor([[-0.2134, -0.0758,  0.0074,  0.1054, -0.0862, -0.0352,  0.1525,  0.0773,\n",
       "         -0.0052, -0.2908],\n",
       "        [ 0.0837, -0.3120, -0.1951,  0.1767,  0.3033, -0.0189, -0.0771,  0.2426,\n",
       "         -0.0228,  0.2379]], requires_grad=True)"
      ]
     },
     "execution_count": 9,
     "metadata": {},
     "output_type": "execute_result"
    }
   ],
   "source": [
    "import torch.nn as nn \n",
    "K = nn.Linear(10,2,bias = False)\n",
    "K.weight"
   ]
  },
  {
   "cell_type": "code",
   "execution_count": null,
   "id": "2b8c9544-5eb8-4748-8314-fd295c7376e3",
   "metadata": {},
   "outputs": [],
   "source": [
    "import numpy as np\n",
    "import pandas as pd\n",
    "import matplotlib.pyplot as plt\n",
    "from sklearn.linear_model import LogisticRegression\n",
    "import math\n",
    "%matplotlib inline"
   ]
  },
  {
   "cell_type": "code",
   "execution_count": null,
   "id": "6a78b3eb-5379-420d-9c58-ab27c58caf60",
   "metadata": {},
   "outputs": [],
   "source": [
    "!pip install scikit-learn"
   ]
  },
  {
   "cell_type": "code",
   "execution_count": 11,
   "id": "943cce60-638a-48a2-98b2-b16ef1e584e9",
   "metadata": {},
   "outputs": [
    {
     "data": {
      "text/plain": [
       "array([[0., 0., 0.],\n",
       "       [0., 0., 0.],\n",
       "       [0., 0., 0.]])"
      ]
     },
     "execution_count": 11,
     "metadata": {},
     "output_type": "execute_result"
    }
   ],
   "source": [
    "np.zeros((3,3))"
   ]
  },
  {
   "cell_type": "code",
   "execution_count": 18,
   "id": "fcfa6c4a-3792-498f-8bc1-b2b31d3fb887",
   "metadata": {},
   "outputs": [],
   "source": [
    "# so we will now train a simple neural network to see what learning is \n",
    "\n",
    "data = pd.DataFrame({'Hours_Studied': [1, 2, 3, 4, 5, 6, 7, 8, 9, 10],\n",
    "                     'Hours_Slept': [3, 4, 5, 6, 7, 8, 9, 7, 6, 5],\n",
    "                     'Passed_Exam': [0, 0, 0, 1, 0, 1, 1, 1, 1, 1]})\n",
    "\n",
    "# Split the data into features (X) and the target variable (Y)\n",
    "X = data[['Hours_Studied', 'Hours_Slept']].values\n",
    "Y = data['Passed_Exam'].values\n"
   ]
  },
  {
   "cell_type": "code",
   "execution_count": 19,
   "id": "46e6d2d0-1432-46b4-bc3f-320c38cd3e87",
   "metadata": {},
   "outputs": [
    {
     "data": {
      "text/plain": [
       "array([[ 1,  3],\n",
       "       [ 2,  4],\n",
       "       [ 3,  5],\n",
       "       [ 4,  6],\n",
       "       [ 5,  7],\n",
       "       [ 6,  8],\n",
       "       [ 7,  9],\n",
       "       [ 8,  7],\n",
       "       [ 9,  6],\n",
       "       [10,  5]], dtype=int64)"
      ]
     },
     "execution_count": 19,
     "metadata": {},
     "output_type": "execute_result"
    }
   ],
   "source": [
    "X"
   ]
  },
  {
   "cell_type": "code",
   "execution_count": 20,
   "id": "6f1802ff-cfb7-4860-83cd-7880d11b33e9",
   "metadata": {},
   "outputs": [
    {
     "data": {
      "text/plain": [
       "array([0, 0, 0, 1, 0, 1, 1, 1, 1, 1], dtype=int64)"
      ]
     },
     "execution_count": 20,
     "metadata": {},
     "output_type": "execute_result"
    }
   ],
   "source": [
    "Y"
   ]
  },
  {
   "cell_type": "code",
   "execution_count": 23,
   "id": "5abb9504-fade-480e-b231-30ab63791cb9",
   "metadata": {},
   "outputs": [
    {
     "data": {
      "text/plain": [
       "array([[0.],\n",
       "       [0.]])"
      ]
     },
     "execution_count": 23,
     "metadata": {},
     "output_type": "execute_result"
    }
   ],
   "source": [
    "# soo now we have a feature space and a label\n",
    "# now lets train a network \n",
    "\n",
    "# in channel is of size 2 and output is of size 1\n",
    "# number of elements is 10 \n",
    "# hence the input matrix is of size (10,2)\n",
    "# output is (10,1)\n",
    "# (10,2) @ (2,1) = (10,1)\n",
    "# also we need a sigmoid function at the end \n",
    "\n",
    "W = np.zeros((2,1))\n",
    "W"
   ]
  },
  {
   "cell_type": "code",
   "execution_count": 29,
   "id": "b97f7f8d-438e-4a06-897b-81579822188c",
   "metadata": {},
   "outputs": [
    {
     "data": {
      "text/plain": [
       "tensor([[ 1,  3],\n",
       "        [ 2,  4],\n",
       "        [ 3,  5],\n",
       "        [ 4,  6],\n",
       "        [ 5,  7],\n",
       "        [ 6,  8],\n",
       "        [ 7,  9],\n",
       "        [ 8,  7],\n",
       "        [ 9,  6],\n",
       "        [10,  5]])"
      ]
     },
     "execution_count": 29,
     "metadata": {},
     "output_type": "execute_result"
    }
   ],
   "source": [
    "X.shape\n",
    "X = torch.from_numpy(X)\n",
    "X"
   ]
  },
  {
   "cell_type": "code",
   "execution_count": 25,
   "id": "5b070993-ccc8-4b90-88b6-d0ad73e2b40a",
   "metadata": {},
   "outputs": [],
   "source": [
    "ans = X @ W "
   ]
  },
  {
   "cell_type": "code",
   "execution_count": 26,
   "id": "925a2f14-4753-464b-a373-1e8b7ed0f833",
   "metadata": {},
   "outputs": [
    {
     "data": {
      "text/plain": [
       "array([[0.],\n",
       "       [0.],\n",
       "       [0.],\n",
       "       [0.],\n",
       "       [0.],\n",
       "       [0.],\n",
       "       [0.],\n",
       "       [0.],\n",
       "       [0.],\n",
       "       [0.]])"
      ]
     },
     "execution_count": 26,
     "metadata": {},
     "output_type": "execute_result"
    }
   ],
   "source": [
    "ans"
   ]
  },
  {
   "cell_type": "code",
   "execution_count": 31,
   "id": "c0e189dc-72e1-4de6-95f0-bfbd576dea43",
   "metadata": {},
   "outputs": [
    {
     "ename": "SyntaxError",
     "evalue": "invalid syntax (3245585209.py, line 3)",
     "output_type": "error",
     "traceback": [
      "\u001b[1;36m  Cell \u001b[1;32mIn[31], line 3\u001b[1;36m\u001b[0m\n\u001b[1;33m    pred = W1(X.as_dtype(float.32))\u001b[0m\n\u001b[1;37m                              ^\u001b[0m\n\u001b[1;31mSyntaxError\u001b[0m\u001b[1;31m:\u001b[0m invalid syntax\n"
     ]
    }
   ],
   "source": [
    "#y = mx + b\n",
    "W1 = nn.Linear(2,1,bias = True)\n",
    "pred = W1(X.as_dtype(float.32))\n",
    "pred"
   ]
  },
  {
   "cell_type": "code",
   "execution_count": null,
   "id": "dedda1fd-c1c5-4321-86cc-616d427a637e",
   "metadata": {},
   "outputs": [],
   "source": []
  }
 ],
 "metadata": {
  "kernelspec": {
   "display_name": "Python 3 (ipykernel)",
   "language": "python",
   "name": "python3"
  },
  "language_info": {
   "codemirror_mode": {
    "name": "ipython",
    "version": 3
   },
   "file_extension": ".py",
   "mimetype": "text/x-python",
   "name": "python",
   "nbconvert_exporter": "python",
   "pygments_lexer": "ipython3",
   "version": "3.8.6"
  }
 },
 "nbformat": 4,
 "nbformat_minor": 5
}
